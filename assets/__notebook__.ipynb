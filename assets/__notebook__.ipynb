{
 "cells": [
  {
   "cell_type": "code",
   "execution_count": 1,
   "id": "4ddf167e",
   "metadata": {
    "_cell_guid": "b1076dfc-b9ad-4769-8c92-a6c4dae69d19",
    "_uuid": "8f2839f25d086af736a60e9eeb907d3b93b6e0e5",
    "execution": {
     "iopub.execute_input": "2025-01-03T22:36:13.113928Z",
     "iopub.status.busy": "2025-01-03T22:36:13.113390Z",
     "iopub.status.idle": "2025-01-03T22:36:13.660372Z",
     "shell.execute_reply": "2025-01-03T22:36:13.659017Z"
    },
    "papermill": {
     "duration": 0.552369,
     "end_time": "2025-01-03T22:36:13.662477",
     "exception": false,
     "start_time": "2025-01-03T22:36:13.110108",
     "status": "completed"
    },
    "tags": []
   },
   "outputs": [
    {
     "name": "stdout",
     "output_type": "stream",
     "text": [
      ".:\r\n",
      "fonts  fonts.css  __notebook__.ipynb\r\n",
      "\r\n",
      "./fonts:\r\n",
      "KFOkCnqEu92Fr1MmgVxIIzc.ttf   KFOlCnqEu92Fr1MmWUlfBBc9.ttf\r\n",
      "KFOlCnqEu92Fr1MmEU9fBBc9.ttf  KFOmCnqEu92Fr1Mu4mxP.ttf\r\n",
      "KFOlCnqEu92Fr1MmSU5fBBc9.ttf\r\n"
     ]
    }
   ],
   "source": [
    "import os, os.path as osp\n",
    "import requests\n",
    "\n",
    "def str_extract(string, prefix, suffix, start = 0):\n",
    "    i = string.find(prefix, start)\n",
    "    if i != -1:\n",
    "        i += len(prefix)\n",
    "        j = string.find(suffix, i)\n",
    "        if j != -1:\n",
    "            return string[i : j], j + len(suffix)\n",
    "    return None, len(string)\n",
    "\n",
    "def add_fonts_css(css_url, site_url = '/', fonts_path = 'fonts'):\n",
    "    os.makedirs(fonts_path, exist_ok = True)\n",
    "    res = requests.get(css_url)\n",
    "    assert res.status_code == 200\n",
    "    css = res.text\n",
    "    font_urls = set()\n",
    "    start = 0\n",
    "    while True:\n",
    "        font_url, start = str_extract(css, 'url(', ')', start)\n",
    "        if font_url is None:\n",
    "            break\n",
    "        font_urls.add(font_url)\n",
    "    for font_url in font_urls:\n",
    "        font_file = osp.join(fonts_path, font_url.split('?')[0].split('/')[-1])\n",
    "        os.system(f'wget {font_url} -O {font_file}')\n",
    "        css = css.replace(font_url, osp.join(site_url, font_file))\n",
    "    with open(f'{fonts_path}.css', 'w') as fo:\n",
    "        fo.write(css)\n",
    "\n",
    "add_fonts_css('https://fonts.googleapis.com/css?family=Roboto:100,300,400,500,700')\n",
    "! ls -R"
   ]
  }
 ],
 "metadata": {
  "kaggle": {
   "accelerator": "none",
   "dataSources": [],
   "dockerImageVersionId": 30822,
   "isGpuEnabled": false,
   "isInternetEnabled": true,
   "language": "python",
   "sourceType": "notebook"
  },
  "kernelspec": {
   "display_name": "Python 3",
   "language": "python",
   "name": "python3"
  },
  "language_info": {
   "codemirror_mode": {
    "name": "ipython",
    "version": 3
   },
   "file_extension": ".py",
   "mimetype": "text/x-python",
   "name": "python",
   "nbconvert_exporter": "python",
   "pygments_lexer": "ipython3",
   "version": "3.10.12"
  },
  "papermill": {
   "default_parameters": {},
   "duration": 3.552081,
   "end_time": "2025-01-03T22:36:14.184522",
   "environment_variables": {},
   "exception": null,
   "input_path": "__notebook__.ipynb",
   "output_path": "__notebook__.ipynb",
   "parameters": {},
   "start_time": "2025-01-03T22:36:10.632441",
   "version": "2.6.0"
  }
 },
 "nbformat": 4,
 "nbformat_minor": 5
}
